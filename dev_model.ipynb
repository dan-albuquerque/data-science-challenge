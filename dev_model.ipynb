{
 "cells": [
  {
   "cell_type": "code",
   "execution_count": 80,
   "id": "d8b59da2",
   "metadata": {},
   "outputs": [
    {
     "data": {
      "text/html": [
       "<div>\n",
       "<style scoped>\n",
       "    .dataframe tbody tr th:only-of-type {\n",
       "        vertical-align: middle;\n",
       "    }\n",
       "\n",
       "    .dataframe tbody tr th {\n",
       "        vertical-align: top;\n",
       "    }\n",
       "\n",
       "    .dataframe thead th {\n",
       "        text-align: right;\n",
       "    }\n",
       "</style>\n",
       "<table border=\"1\" class=\"dataframe\">\n",
       "  <thead>\n",
       "    <tr style=\"text-align: right;\">\n",
       "      <th></th>\n",
       "      <th>REF_DATE</th>\n",
       "      <th>TARGET</th>\n",
       "      <th>VAR2</th>\n",
       "      <th>IDADE</th>\n",
       "      <th>VAR4</th>\n",
       "      <th>VAR5</th>\n",
       "      <th>VAR6</th>\n",
       "      <th>VAR7</th>\n",
       "      <th>VAR8</th>\n",
       "      <th>VAR9</th>\n",
       "      <th>...</th>\n",
       "      <th>VAR141</th>\n",
       "      <th>VAR142</th>\n",
       "      <th>VAR143</th>\n",
       "      <th>VAR144</th>\n",
       "      <th>VAR145</th>\n",
       "      <th>VAR146</th>\n",
       "      <th>VAR147</th>\n",
       "      <th>VAR148</th>\n",
       "      <th>VAR149</th>\n",
       "      <th>ID</th>\n",
       "    </tr>\n",
       "  </thead>\n",
       "  <tbody>\n",
       "    <tr>\n",
       "      <th>0</th>\n",
       "      <td>2017-06-01 00:00:00+00:00</td>\n",
       "      <td>0</td>\n",
       "      <td>M</td>\n",
       "      <td>34.137</td>\n",
       "      <td>NaN</td>\n",
       "      <td>RO</td>\n",
       "      <td>-8.808779</td>\n",
       "      <td>-63.87847</td>\n",
       "      <td>D</td>\n",
       "      <td>E</td>\n",
       "      <td>...</td>\n",
       "      <td>2680.289259</td>\n",
       "      <td>D</td>\n",
       "      <td>NaN</td>\n",
       "      <td>NaN</td>\n",
       "      <td>NaN</td>\n",
       "      <td>NaN</td>\n",
       "      <td>102</td>\n",
       "      <td>EMAIL INEXISTENTE#@#NOME INEXISTENTE#@#CEP INE...</td>\n",
       "      <td>2.6.1</td>\n",
       "      <td>181755</td>\n",
       "    </tr>\n",
       "    <tr>\n",
       "      <th>1</th>\n",
       "      <td>2017-08-18 00:00:00+00:00</td>\n",
       "      <td>0</td>\n",
       "      <td>M</td>\n",
       "      <td>40.447</td>\n",
       "      <td>NaN</td>\n",
       "      <td>PB</td>\n",
       "      <td>-7.146537</td>\n",
       "      <td>-34.92608</td>\n",
       "      <td>E</td>\n",
       "      <td>E</td>\n",
       "      <td>...</td>\n",
       "      <td>1777.725469</td>\n",
       "      <td>E</td>\n",
       "      <td>NaN</td>\n",
       "      <td>NaN</td>\n",
       "      <td>NaN</td>\n",
       "      <td>NaN</td>\n",
       "      <td>102</td>\n",
       "      <td>EMAIL INEXISTENTE#@#NOME INEXISTENTE#@#CEP INE...</td>\n",
       "      <td>2.6.1</td>\n",
       "      <td>287633</td>\n",
       "    </tr>\n",
       "  </tbody>\n",
       "</table>\n",
       "<p>2 rows × 151 columns</p>\n",
       "</div>"
      ],
      "text/plain": [
       "                    REF_DATE  TARGET VAR2   IDADE VAR4 VAR5      VAR6  \\\n",
       "0  2017-06-01 00:00:00+00:00       0    M  34.137  NaN   RO -8.808779   \n",
       "1  2017-08-18 00:00:00+00:00       0    M  40.447  NaN   PB -7.146537   \n",
       "\n",
       "       VAR7 VAR8 VAR9  ...       VAR141  VAR142  VAR143  VAR144  VAR145  \\\n",
       "0 -63.87847    D    E  ...  2680.289259       D     NaN     NaN     NaN   \n",
       "1 -34.92608    E    E  ...  1777.725469       E     NaN     NaN     NaN   \n",
       "\n",
       "   VAR146  VAR147                                             VAR148  VAR149  \\\n",
       "0     NaN     102  EMAIL INEXISTENTE#@#NOME INEXISTENTE#@#CEP INE...   2.6.1   \n",
       "1     NaN     102  EMAIL INEXISTENTE#@#NOME INEXISTENTE#@#CEP INE...   2.6.1   \n",
       "\n",
       "       ID  \n",
       "0  181755  \n",
       "1  287633  \n",
       "\n",
       "[2 rows x 151 columns]"
      ]
     },
     "execution_count": 80,
     "metadata": {},
     "output_type": "execute_result"
    }
   ],
   "source": [
    "import pandas as pd\n",
    "\n",
    "df = pd.read_csv(\"datasets/credit_01/train.gz\", compression=\"gzip\")\n",
    "\n",
    "df.head(2)"
   ]
  },
  {
   "cell_type": "code",
   "execution_count": 92,
   "id": "228f89b4",
   "metadata": {},
   "outputs": [
    {
     "name": "stdout",
     "output_type": "stream",
     "text": [
      "<class 'pandas.core.frame.DataFrame'>\n",
      "RangeIndex: 120750 entries, 0 to 120749\n",
      "Columns: 151 entries, REF_DATE to ID\n",
      "dtypes: category(114), float64(34), int64(3)\n",
      "memory usage: 47.4 MB\n",
      "\n",
      "TARGET\n",
      "0    91163\n",
      "1    29587\n",
      "Name: count, dtype: int64\n"
     ]
    }
   ],
   "source": [
    "# convertendo colunas object pra category e análises básicas\n",
    "df = df.astype({col: \"category\" for col in df.select_dtypes(\"object\").columns})\n",
    "\n",
    "df.info()\n",
    "\n",
    "print()\n",
    "\n",
    "print(df['TARGET'].value_counts())"
   ]
  },
  {
   "cell_type": "code",
   "execution_count": 82,
   "id": "28a7e994",
   "metadata": {},
   "outputs": [
    {
     "name": "stdout",
     "output_type": "stream",
     "text": [
      "TARGET\n",
      "0    91163\n",
      "1    91163\n",
      "Name: count, dtype: int64\n"
     ]
    }
   ],
   "source": [
    "# aplicando Oversample na classe minoritária\n",
    "\n",
    "from sklearn.utils import resample\n",
    "\n",
    "def oversample_target(df, target_col='TARGET'):\n",
    "    # Separa as classes\n",
    "    classe_majoritaria = df[df[target_col] == df[target_col].value_counts().idxmax()]\n",
    "    classe_minoritaria = df[df[target_col] != df[target_col].value_counts().idxmax()]\n",
    "    \n",
    "    classe_minoritaria_upsampled = resample(\n",
    "        classe_minoritaria,\n",
    "        replace=True,\n",
    "        n_samples=len(classe_majoritaria),\n",
    "        random_state=42\n",
    "    )\n",
    "    \n",
    "    # Junta as duas classes\n",
    "    df_balanceado = pd.concat([classe_majoritaria, classe_minoritaria_upsampled])\n",
    "    return df_balanceado.sample(frac=1, random_state=42).reset_index(drop=True)\n",
    "\n",
    "# Exemplo de uso:\n",
    "df_balanceado = oversample_target(df)\n",
    "print(df_balanceado['TARGET'].value_counts())"
   ]
  },
  {
   "cell_type": "code",
   "execution_count": 83,
   "id": "2e3a65f2",
   "metadata": {},
   "outputs": [
    {
     "data": {
      "text/plain": [
       "RandomForestClassifier()"
      ]
     },
     "execution_count": 83,
     "metadata": {},
     "output_type": "execute_result"
    }
   ],
   "source": [
    "from sklearn.ensemble import RandomForestClassifier\n",
    "from sklearn.model_selection import train_test_split\n",
    "\n",
    "X = df_balanceado.drop(columns=['TARGET'])\n",
    "y = df_balanceado['TARGET']\n",
    "\n",
    "# Convertendo variáveis categóricas para numéricas\n",
    "X = pd.get_dummies(X, drop_first=True)\n",
    "\n",
    "# Preenchendo valores nulos\n",
    "X = X.fillna(0)\n",
    "\n",
    "# divindindo entre treino e teste\n",
    "\n",
    "X_train, X_test, y_train, y_test = train_test_split(X, y, test_size=0.2, random_state=42, stratify=y)\n",
    "\n",
    "# Treinando o modelo\n",
    "model = RandomForestClassifier()\n",
    "model.fit(X_train, y_train)"
   ]
  },
  {
   "cell_type": "code",
   "execution_count": 84,
   "id": "43e9e1f3",
   "metadata": {},
   "outputs": [
    {
     "name": "stdout",
     "output_type": "stream",
     "text": [
      "Melhores parâmetros: {'max_depth': 15, 'min_samples_split': 2, 'n_estimators': 150}\n"
     ]
    }
   ],
   "source": [
    "# fazendo grid_search pra encontrar melhores parâmetros\n",
    "from sklearn.model_selection import GridSearchCV\n",
    "\n",
    "param_grid = {\n",
    "    'n_estimators': [100, 150],\n",
    "    'max_depth': [10, 15],\n",
    "    'min_samples_split': [2, 5],\n",
    "}\n",
    "\n",
    "grid_search = GridSearchCV(estimator=model, param_grid=param_grid, cv=5, scoring='roc_auc', n_jobs=-1)\n",
    "grid_search.fit(X_train, y_train)\n",
    "\n",
    "print(f\"Melhores parâmetros: {grid_search.best_params_}\")"
   ]
  },
  {
   "cell_type": "code",
   "execution_count": 85,
   "id": "835df761",
   "metadata": {},
   "outputs": [
    {
     "name": "stdout",
     "output_type": "stream",
     "text": [
      "Curva AUC (treino): 0.8812988010663865\n",
      "Curva AUC (teste): 0.8081075554740872\n"
     ]
    }
   ],
   "source": [
    "# validação com curva auc \n",
    "from sklearn.metrics import roc_auc_score\n",
    "\n",
    "y_pred_train = grid_search.predict_proba(X_train)[:, 1]\n",
    "y_pred_test = grid_search.predict_proba(X_test)[:, 1]\n",
    "\n",
    "roc_auc_train = roc_auc_score(y_train, y_pred_train)\n",
    "roc_auc_test = roc_auc_score(y_test, y_pred_test)\n",
    "\n",
    "print(f\"Curva AUC (treino): {roc_auc_train}\")\n",
    "print(f\"Curva AUC (teste): {roc_auc_test}\")"
   ]
  },
  {
   "cell_type": "code",
   "execution_count": 86,
   "id": "d5cbca15",
   "metadata": {},
   "outputs": [
    {
     "name": "stdout",
     "output_type": "stream",
     "text": [
      "              precision    recall  f1-score   support\n",
      "\n",
      "           0       0.93      0.91      0.92     18233\n",
      "           1       0.92      0.93      0.93     18233\n",
      "\n",
      "    accuracy                           0.92     36466\n",
      "   macro avg       0.92      0.92      0.92     36466\n",
      "weighted avg       0.92      0.92      0.92     36466\n",
      "\n"
     ]
    }
   ],
   "source": [
    "#classification report\n",
    "from sklearn.metrics import classification_report\n",
    "\n",
    "y_pred = model.predict(X_test)\n",
    "print(classification_report(y_test, y_pred))"
   ]
  },
  {
   "cell_type": "code",
   "execution_count": 87,
   "id": "9867da70",
   "metadata": {},
   "outputs": [],
   "source": [
    "# exportando modelo\n",
    "import pickle\n",
    "\n",
    "with open(\"monitoring/my_model.pkl\", \"wb\") as f:\n",
    "    pickle.dump(model, f)"
   ]
  }
 ],
 "metadata": {
  "kernelspec": {
   "display_name": "Neurodesafio",
   "language": "python",
   "name": "python3"
  },
  "language_info": {
   "codemirror_mode": {
    "name": "ipython",
    "version": 3
   },
   "file_extension": ".py",
   "mimetype": "text/x-python",
   "name": "python",
   "nbconvert_exporter": "python",
   "pygments_lexer": "ipython3",
   "version": "3.10.18"
  }
 },
 "nbformat": 4,
 "nbformat_minor": 5
}
