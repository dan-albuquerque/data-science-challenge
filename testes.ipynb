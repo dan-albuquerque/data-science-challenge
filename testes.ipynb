{
 "cells": [
  {
   "cell_type": "code",
   "execution_count": null,
   "id": "d90c207b",
   "metadata": {},
   "outputs": [],
   "source": [
    "import requests\n",
    "import json\n",
    "\n",
    "# Testa performance\n",
    "with open(\"batch_records.json\", \"r\") as f:\n",
    "    records = json.load(f)\n",
    "\n",
    "resp = requests.post(\"http://localhost:8001/v1/performance\", json=records)\n",
    "print(resp.json())\n",
    "\n",
    "# Testa aderência\n",
    "resp = requests.post(\"http://localhost:8001/v1/aderencia\", json={\"dataset_path\": \"../datasets/credit_01/train.gz\"})\n",
    "print(resp.json())\n",
    "\n",
    "resp = requests.post(\"http://localhost:8001/v1/aderencia\", json={\"dataset_path\": \"../datasets/credit_01/oot.gz\"})\n",
    "print(resp.json())\n"
   ]
  }
 ],
 "metadata": {
  "kernelspec": {
   "display_name": "venv",
   "language": "python",
   "name": "python3"
  },
  "language_info": {
   "codemirror_mode": {
    "name": "ipython",
    "version": 3
   },
   "file_extension": ".py",
   "mimetype": "text/x-python",
   "name": "python",
   "nbconvert_exporter": "python",
   "pygments_lexer": "ipython3",
   "version": "3.12.3"
  }
 },
 "nbformat": 4,
 "nbformat_minor": 5
}
